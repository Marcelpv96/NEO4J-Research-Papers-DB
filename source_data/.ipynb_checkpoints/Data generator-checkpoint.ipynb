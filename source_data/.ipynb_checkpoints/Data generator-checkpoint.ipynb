{
 "cells": [
  {
   "cell_type": "code",
   "execution_count": 24,
   "metadata": {},
   "outputs": [],
   "source": [
    "import pandas as pd\n",
    "import random\n",
    "\n",
    "\n",
    "JOURNALS = ['UPC journal', 'IEEE Journal']\n",
    "YEARS = ['2015', '2016', '2017', '2018','2019','2020','2021']\n",
    "CONFERENCES = ['UDL conference', 'MAXsat conference']\n",
    "JOURNAL_EDITOR = 4\n",
    "CONFERENCE_EDITOR = 4\n",
    "PAPERS = 100\n",
    "NUM_JOURNALS = 20\n",
    "NUM_CONFERENCES = abs(PAPERS-NUM_JOURNALS)\n",
    "\n",
    "KEYWORDS = ['CNN', 'NN', 'DeepLearning', 'pandas', 'python', 'neo4j', 'tensor flow', 'android', 'qbits']\n",
    "CITIES = ['Barcelona', 'Lleida', 'Balaguer', 'London', 'Madrid']\n",
    "\n",
    "author_papers = pd.read_csv(\"author_papers.csv\")[:200]"
   ]
  },
  {
   "cell_type": "markdown",
   "metadata": {},
   "source": [
    "# Generate editors\n",
    "\n",
    "    - We will use different authors for editors, and authors of scinetific papers."
   ]
  },
  {
   "cell_type": "code",
   "execution_count": 25,
   "metadata": {},
   "outputs": [],
   "source": [
    "journal_editors = [author_papers.iloc[i]['author'].split('|')[0] for i in range(50, 50+JOURNAL_EDITOR)]\n",
    "conference_editors = [author_papers.iloc[i]['author'].split('|')[0] for i in range(50+JOURNAL_EDITOR, 50+CONFERENCE_EDITOR*2)]\n"
   ]
  },
  {
   "cell_type": "markdown",
   "metadata": {},
   "source": [
    "# Generate journals and conferences \n",
    "\n",
    "    - For each publication we will have: \n",
    "        - Author : Author of the paper. Only 6 authors available.\n",
    "        - Journal: Journal name. Defined at the top of the file\n",
    "        - Year: One of the years defined previously\n",
    "        - Editor: One of the editor generated at the previous block of code.\n",
    "        - City: One fo the cities defined previously\n",
    "        - Edition: For each year, and conference/journal we will have some"
   ]
  },
  {
   "cell_type": "code",
   "execution_count": 26,
   "metadata": {},
   "outputs": [],
   "source": [
    "journals = {'Author':[], 'Journal':[], 'Year':[], 'Paper':[], 'Editor':[], 'City':[], 'Edition':[]}\n",
    "journal_papers = []\n",
    "def gen_journal(journal_papers):\n",
    "    for i in range(0, NUM_JOURNALS):\n",
    "        authors = author_papers.iloc[random.randint(0,5)]['author'].split('|')\n",
    "        journal = JOURNALS[random.randint(0,len(JOURNALS)-1)]\n",
    "        paper = author_papers.iloc[i]['title']\n",
    "        journal_papers += [paper]\n",
    "        year = YEARS[random.randint(0, len(YEARS)-1)]\n",
    "        city = CITIES[random.randint(0, len(CITIES)-1)]\n",
    "        editor = journal_editors[random.randint(0, len(journal_editors)-1)]\n",
    "        for author in authors:\n",
    "            journals['Author'] += [author]\n",
    "            journals['Journal'] += [journal]\n",
    "            journals['Year'] += [year]\n",
    "            journals['Paper'] += [paper]\n",
    "            journals['Editor'] += [editor]\n",
    "            journals['City'] += [city]\n",
    "            journals['Edition'] +=['edition %s %s' % ((year, journal))]\n",
    "        "
   ]
  },
  {
   "cell_type": "code",
   "execution_count": 27,
   "metadata": {},
   "outputs": [],
   "source": [
    "conferences = {'Author':[], 'Conference':[], 'Year':[], 'Paper':[], 'Editor':[], 'City':[], 'Edition':[]}\n",
    "conference_papers = []\n",
    "def gen_conference(conference_papers):\n",
    "    for i in range(NUM_JOURNALS, PAPERS):\n",
    "        authors = author_papers.iloc[random.randint(0,5)]['author'].split('|')\n",
    "        conference = CONFERENCES[random.randint(0,len(JOURNALS)-1)]\n",
    "        paper = author_papers.iloc[i]['title']\n",
    "        conference_papers += [paper]\n",
    "        year = YEARS[random.randint(0, len(YEARS)-1)]\n",
    "        city = CITIES[random.randint(0, len(CITIES)-1)]\n",
    "        editor = conference_editors[random.randint(0, len(conference_editors)-1)]\n",
    "        for author in authors: \n",
    "            conferences['Author'] += [author]\n",
    "            conferences['Conference'] += [conference]\n",
    "            conferences['Year'] += [year]\n",
    "            conferences['Paper'] += [paper]\n",
    "            conferences['Editor'] += [editor]\n",
    "            conferences['City'] += [city]\n",
    "            conferences['Edition'] +=['edition %s %s' % ((year, conference))]\n",
    "\n",
    "\n"
   ]
  },
  {
   "cell_type": "code",
   "execution_count": 28,
   "metadata": {},
   "outputs": [],
   "source": [
    "gen_conference(conference_papers)\n",
    "gen_journal(journal_papers)"
   ]
  },
  {
   "cell_type": "markdown",
   "metadata": {},
   "source": [
    "# Generate keywords "
   ]
  },
  {
   "cell_type": "code",
   "execution_count": 31,
   "metadata": {},
   "outputs": [],
   "source": [
    "all_papers = conference_papers + journal_papers\n",
    "paper_keywords = {'Paper':[], 'Keyword':[]}\n",
    "def gen_keywords():\n",
    "    for paper in all_papers:\n",
    "        random.shuffle(KEYWORDS)\n",
    "        for word in [word for word in KEYWORDS[:random.randint(1,3)]]:\n",
    "            paper_keywords['Paper'] += [paper]\n",
    "            paper_keywords['Keyword'] += [word]"
   ]
  },
  {
   "cell_type": "code",
   "execution_count": 32,
   "metadata": {},
   "outputs": [],
   "source": [
    "gen_keywords()"
   ]
  },
  {
   "cell_type": "markdown",
   "metadata": {},
   "source": [
    "# Generate references\n",
    "\n",
    "    - Randomly we will assign reference with a probability of 10% for each papers"
   ]
  },
  {
   "cell_type": "code",
   "execution_count": 33,
   "metadata": {},
   "outputs": [],
   "source": [
    "references = {'paper':[], 'reference':[]}\n",
    "def gen_references():\n",
    "    for paper in all_papers:\n",
    "        for reference in all_papers[1:]:\n",
    "            if random.random() < 0.10:\n",
    "                references['paper'] += [paper]\n",
    "                references['reference'] +=[reference]\n",
    "                "
   ]
  },
  {
   "cell_type": "code",
   "execution_count": 34,
   "metadata": {},
   "outputs": [],
   "source": [
    "gen_references()"
   ]
  },
  {
   "cell_type": "markdown",
   "metadata": {},
   "source": [
    "# Generate reviews\n",
    "\n",
    "    - Randomly we will assign one author for each paper published. Papers can be published in conferences and journals."
   ]
  },
  {
   "cell_type": "code",
   "execution_count": 35,
   "metadata": {},
   "outputs": [],
   "source": [
    "all_authors = journals['Author'] + conferences['Author']\n",
    "reviews = {'Author':[], 'Editor':[], 'Paper':[]}\n",
    "def gen_reviews(published_papers):\n",
    "    editors = published_papers['Editor']\n",
    "    papers = published_papers['Paper']\n",
    "    for i in range(0, len(editors)):\n",
    "        paper = papers[i]\n",
    "        editor = editors[i]\n",
    "        author = all_authors[random.randint(0,len(all_authors)-1)]\n",
    "        if paper not in reviews['Paper']:\n",
    "            reviews['Paper'] += [paper]\n",
    "            reviews['Editor'] += [editor]\n",
    "            reviews['Author'] += [author]\n",
    "    "
   ]
  },
  {
   "cell_type": "code",
   "execution_count": 36,
   "metadata": {},
   "outputs": [],
   "source": [
    "gen_reviews(journals)\n",
    "gen_reviews(conferences)"
   ]
  },
  {
   "cell_type": "code",
   "execution_count": null,
   "metadata": {},
   "outputs": [],
   "source": []
  },
  {
   "cell_type": "markdown",
   "metadata": {},
   "source": [
    "# Generating files\n",
    "\n",
    "    - Name will be : \"kind of file\"_\"value of PAPERS\".csv, for example if it contains journals information, and PAPERS is equal to 50, the file will be named as: journals_50.csv "
   ]
  },
  {
   "cell_type": "code",
   "execution_count": 37,
   "metadata": {},
   "outputs": [],
   "source": [
    "pd.DataFrame(journals).to_csv(\"journals_%d.csv\" % PAPERS)\n",
    "pd.DataFrame(conferences).to_csv(\"conferences_%d.csv\" % PAPERS)\n",
    "pd.DataFrame(paper_keywords).to_csv(\"keywords_%d.csv\" % PAPERS)\n",
    "pd.DataFrame(reviews).to_csv(\"reviews_%d.csv\" % PAPERS)\n",
    "pd.DataFrame(references).to_csv(\"references_%d.csv\" % PAPERS)"
   ]
  },
  {
   "cell_type": "code",
   "execution_count": 362,
   "metadata": {},
   "outputs": [],
   "source": []
  },
  {
   "cell_type": "code",
   "execution_count": null,
   "metadata": {},
   "outputs": [],
   "source": []
  }
 ],
 "metadata": {
  "kernelspec": {
   "display_name": "Python 3",
   "language": "python",
   "name": "python3"
  },
  "language_info": {
   "codemirror_mode": {
    "name": "ipython",
    "version": 3
   },
   "file_extension": ".py",
   "mimetype": "text/x-python",
   "name": "python",
   "nbconvert_exporter": "python",
   "pygments_lexer": "ipython3",
   "version": "3.7.1"
  }
 },
 "nbformat": 4,
 "nbformat_minor": 2
}
