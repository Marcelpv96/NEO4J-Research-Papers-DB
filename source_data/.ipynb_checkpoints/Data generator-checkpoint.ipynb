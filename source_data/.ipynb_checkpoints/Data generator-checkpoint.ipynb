{
 "cells": [
  {
   "cell_type": "code",
   "execution_count": 1,
   "metadata": {},
   "outputs": [],
   "source": [
    "import pandas as pd\n",
    "import random\n",
    "from functools import reduce\n",
    "\n",
    "JOURNALS = ['UPC journal', 'IEEE Journal']\n",
    "YEARS = ['2015', '2016', '2017', '2018','2019','2020','2021']\n",
    "CONFERENCES = ['UDL conference', 'MAXsat conference']\n",
    "\n",
    "\n",
    "NAME_AFFILIATIONS = ['UDL', 'UPC', 'Intel', 'Microsoft']\n",
    "AFFILIATIONS = {'UDL': 'University', 'UPC': 'University', 'Intel':'Company', 'Microsoft':'Company'}\n",
    "JOURNAL_EDITOR = 4\n",
    "CONFERENCE_EDITOR = 4\n",
    "OPINIONS = ['Nice paper, but not too much interesting.', 'Really good.', 'Too much boring.', 'Nice to know.']\n",
    "PAPERS = 200\n",
    "NUM_AUTHORS = 17\n",
    "NUM_JOURNALS = int(PAPERS/3)\n",
    "NUM_CONFERENCES = abs(PAPERS-NUM_JOURNALS)\n",
    "\n",
    "KEYWORDS = ['CNN', 'NN', 'DeepLearning', 'data management', 'indexing', 'data modeling', 'big data', 'data processing', 'data storage', 'data querying', 'pandas', 'python', 'neo4j', 'tensor flow', 'android']\n",
    "CITIES = ['Barcelona', 'Lleida', 'Balaguer', 'London', 'Madrid']\n",
    "\n",
    "author_papers = pd.read_csv(\"author_papers.csv\")[:200]\n",
    "\n",
    "all_authors = reduce(lambda x,y:x+y, list(map(lambda x: x.split('|'), author_papers['author'])))\n",
    "authors_inf = {author:{'Dni': random.randint(48050593, 98050592), 'Age': random.randint(20, 89) } for author in all_authors}\n",
    "\n",
    "papers = author_papers['title']\n",
    "papers_inf = {paper:{'Isbn':random.randint(48050593, 198050592), 'Pages':random.randint(4, 20)} for paper in papers}"
   ]
  },
  {
   "cell_type": "code",
   "execution_count": 2,
   "metadata": {},
   "outputs": [
    {
     "data": {
      "text/plain": [
       "68581138"
      ]
     },
     "execution_count": 2,
     "metadata": {},
     "output_type": "execute_result"
    }
   ],
   "source": [
    "authors_inf['Sanjeev Saxena']['Dni']"
   ]
  },
  {
   "cell_type": "markdown",
   "metadata": {},
   "source": [
    "# Generate editors\n",
    "\n",
    "    - We will use different authors for editors, and authors of scinetific papers."
   ]
  },
  {
   "cell_type": "code",
   "execution_count": 3,
   "metadata": {},
   "outputs": [],
   "source": [
    "journal_editors = [author_papers.iloc[i]['author'].split('|')[0] for i in range(50, 50+JOURNAL_EDITOR)]\n",
    "conference_editors = [author_papers.iloc[i]['author'].split('|')[0] for i in range(50+JOURNAL_EDITOR, 50+CONFERENCE_EDITOR*2)]\n"
   ]
  },
  {
   "cell_type": "markdown",
   "metadata": {},
   "source": [
    "# Generate journals and conferences \n",
    "\n",
    "    - For each publication we will have: \n",
    "        - Author : Author of the paper. Only 6 authors available.\n",
    "        - Journal: Journal name. Defined at the top of the file\n",
    "        - Year: One of the years defined previously\n",
    "        - Editor: One of the editor generated at the previous block of code.\n",
    "        - City: One fo the cities defined previously\n",
    "        - Edition: For each year, and conference/journal we will have some"
   ]
  },
  {
   "cell_type": "code",
   "execution_count": 4,
   "metadata": {},
   "outputs": [],
   "source": [
    "journals = {'Author':[], 'Journal':[], 'Year':[], 'Paper':[], 'Editor':[], 'City':[], 'Edition':[], 'Isbn':[], 'Dni':[], 'Age':[], 'Pages':[], 'EditorDni':[], 'EditorAge':[]}\n",
    "journal_papers = []\n",
    "def gen_journal(journal_papers):\n",
    "    for i in range(0, NUM_JOURNALS):\n",
    "        authors = author_papers.iloc[random.randint(0,NUM_AUTHORS)]['author'].split('|')\n",
    "        journal = JOURNALS[random.randint(0,len(JOURNALS)-1)]\n",
    "        paper = author_papers.iloc[i]['title']\n",
    "        journal_papers += [paper]\n",
    "        year = YEARS[random.randint(0, len(YEARS)-1)]\n",
    "        city = CITIES[random.randint(0, len(CITIES)-1)]\n",
    "        editor = journal_editors[random.randint(0, len(journal_editors)-1)]\n",
    "        for author in authors:\n",
    "            journals['Author'] += [author]\n",
    "            journals['Journal'] += [journal]\n",
    "            journals['Year'] += [year]\n",
    "            journals['Paper'] += [paper]\n",
    "            journals['Editor'] += [editor]\n",
    "            journals['City'] += [city]\n",
    "            journals['Edition'] +=['edition %s %s' % ((year, journal))]\n",
    "            journals['Isbn'] += [papers_inf[paper]['Isbn']]\n",
    "            journals['Age'] += [authors_inf[author]['Age']]\n",
    "            journals['Pages'] += [papers_inf[paper]['Pages']]\n",
    "            journals['Dni'] += [authors_inf[author]['Dni']]\n",
    "            journals['EditorDni'] += [authors_inf[editor]['Dni']]\n",
    "            journals['EditorAge'] += [authors_inf[editor]['Age']]\n",
    "        "
   ]
  },
  {
   "cell_type": "code",
   "execution_count": 5,
   "metadata": {},
   "outputs": [],
   "source": [
    "conferences = {'Author':[], 'Conference':[], 'Year':[], 'Paper':[], 'Editor':[], 'City':[], 'Edition':[], 'Isbn':[], 'Dni':[], 'Age':[], 'Pages':[], 'EditorDni':[], 'EditorAge':[]}\n",
    "conference_papers = []\n",
    "def gen_conference(conference_papers):\n",
    "    for i in range(NUM_JOURNALS, PAPERS):\n",
    "        authors = author_papers.iloc[random.randint(0,5)]['author'].split('|')\n",
    "        conference = CONFERENCES[random.randint(0,len(JOURNALS)-1)]\n",
    "        paper = author_papers.iloc[i]['title']\n",
    "        conference_papers += [paper]\n",
    "        year = YEARS[random.randint(0, len(YEARS)-1)]\n",
    "        city = CITIES[random.randint(0, len(CITIES)-1)]\n",
    "        editor = conference_editors[random.randint(0, len(conference_editors)-1)]\n",
    "        for author in authors: \n",
    "            conferences['Author'] += [author]\n",
    "            conferences['Conference'] += [conference]\n",
    "            conferences['Year'] += [year]\n",
    "            conferences['Paper'] += [paper]\n",
    "            conferences['Editor'] += [editor]\n",
    "            conferences['City'] += [city]\n",
    "            conferences['Edition'] +=['edition %s %s' % ((year, conference))]\n",
    "            conferences['Isbn'] += [papers_inf[paper]['Isbn']]\n",
    "            conferences['Age'] += [authors_inf[author]['Age']]\n",
    "            conferences['Pages'] += [papers_inf[paper]['Pages']]\n",
    "            conferences['Dni'] += [authors_inf[author]['Dni']]\n",
    "            conferences['EditorDni'] += [authors_inf[editor]['Dni']]\n",
    "            conferences['EditorAge'] += [authors_inf[editor]['Age']]\n",
    "            "
   ]
  },
  {
   "cell_type": "code",
   "execution_count": 6,
   "metadata": {},
   "outputs": [],
   "source": [
    "gen_conference(conference_papers)\n",
    "gen_journal(journal_papers)"
   ]
  },
  {
   "cell_type": "code",
   "execution_count": null,
   "metadata": {},
   "outputs": [],
   "source": []
  },
  {
   "cell_type": "markdown",
   "metadata": {},
   "source": [
    "# Generate keywords "
   ]
  },
  {
   "cell_type": "code",
   "execution_count": 7,
   "metadata": {},
   "outputs": [],
   "source": [
    "all_papers = conference_papers + journal_papers\n",
    "paper_keywords = {'Paper':[], 'Keyword':[]}\n",
    "def gen_keywords():\n",
    "    for paper in all_papers:\n",
    "        random.shuffle(KEYWORDS)\n",
    "        for word in [word for word in KEYWORDS[:random.randint(1,3)]]:\n",
    "            paper_keywords['Paper'] += [paper]\n",
    "            paper_keywords['Keyword'] += [word]"
   ]
  },
  {
   "cell_type": "code",
   "execution_count": 8,
   "metadata": {},
   "outputs": [],
   "source": [
    "gen_keywords()"
   ]
  },
  {
   "cell_type": "markdown",
   "metadata": {},
   "source": [
    "# Generate references\n",
    "\n",
    "    - Randomly we will assign reference with a probability of 10% for each papers"
   ]
  },
  {
   "cell_type": "code",
   "execution_count": 9,
   "metadata": {},
   "outputs": [],
   "source": [
    "papers_years = pd.concat([pd.DataFrame(conferences)[['Paper', 'Year']], pd.DataFrame(journals)[['Paper', 'Year']]])"
   ]
  },
  {
   "cell_type": "code",
   "execution_count": 10,
   "metadata": {},
   "outputs": [],
   "source": [
    "references = {'paper':[], 'reference':[]}\n",
    "def gen_references():\n",
    "    for paper in all_papers:\n",
    "        for reference in all_papers[1:]:\n",
    "            year_paper = int(papers_years[papers_years['Paper']== paper].iloc[0]['Year'])\n",
    "            year_reference = int(papers_years[papers_years['Paper']== reference].iloc[0]['Year'])\n",
    "            if random.random() < 0.10 and year_paper >= year_reference:\n",
    "                references['paper'] += [paper]\n",
    "                references['reference'] +=[reference]"
   ]
  },
  {
   "cell_type": "code",
   "execution_count": 11,
   "metadata": {},
   "outputs": [],
   "source": [
    "gen_references()"
   ]
  },
  {
   "cell_type": "code",
   "execution_count": null,
   "metadata": {},
   "outputs": [],
   "source": []
  },
  {
   "cell_type": "markdown",
   "metadata": {},
   "source": [
    "# Generate reviews\n",
    "\n",
    "    - Randomly we will assign one author for each paper published. Papers can be published in conferences and journals.\n",
    "    - Randomly we assign more or less reviewers for each paper.\n",
    "    - Randomly choose for each author organisation."
   ]
  },
  {
   "cell_type": "code",
   "execution_count": null,
   "metadata": {},
   "outputs": [],
   "source": []
  },
  {
   "cell_type": "code",
   "execution_count": 12,
   "metadata": {},
   "outputs": [],
   "source": [
    "all_authors = journals['Author'] + conferences['Author']\n",
    "reviews = {'Author':[], 'Editor':[], 'Paper':[], 'Affiliation':[], 'CompanyUniversity':[], 'Decision':[], 'Opinion':[]}\n",
    "def gen_reviews(published_papers):\n",
    "    editors = published_papers['Editor']\n",
    "    papers = published_papers['Paper']\n",
    "    for i in range(0, len(editors)):\n",
    "        paper = papers[i]\n",
    "        editor = editors[i]\n",
    "        author = all_authors[random.randint(0,len(all_authors)-1)]\n",
    "        for i in range(0,random.randint(2,4)):\n",
    "            reviews['Paper'] += [paper]\n",
    "            reviews['Editor'] += [editor]\n",
    "            author_old = author\n",
    "            while author_old == author:\n",
    "                author = all_authors[random.randint(0,len(all_authors)-1)]\n",
    "            reviews['Author'] += [author]\n",
    "            affiliation = NAME_AFFILIATIONS[random.randint(0, len(NAME_AFFILIATIONS)-1)]\n",
    "            reviews['Affiliation'] += [affiliation]\n",
    "            reviews['CompanyUniversity'] += [AFFILIATIONS[affiliation]]\n",
    "            reviews['Decision'] += [['Accepted','Denied'][random.randint(0,1)]]\n",
    "            reviews['Opinion'] += [OPINIONS[random.randint(0,len(OPINIONS)-1)]]\n",
    "    "
   ]
  },
  {
   "cell_type": "code",
   "execution_count": 13,
   "metadata": {},
   "outputs": [],
   "source": [
    "gen_reviews(journals)\n",
    "gen_reviews(conferences)"
   ]
  },
  {
   "cell_type": "code",
   "execution_count": null,
   "metadata": {},
   "outputs": [],
   "source": []
  },
  {
   "cell_type": "markdown",
   "metadata": {},
   "source": [
    "# Generating files\n",
    "\n",
    "    - Name will be : \"kind of file\"_\"value of PAPERS\".csv, for example if it contains journals information, and PAPERS is equal to 50, the file will be named as: journals_50.csv "
   ]
  },
  {
   "cell_type": "code",
   "execution_count": 14,
   "metadata": {},
   "outputs": [],
   "source": [
    "pd.DataFrame(journals).to_csv(\"journals_%d.csv\" % PAPERS)\n",
    "pd.DataFrame(conferences).to_csv(\"conferences_%d.csv\" % PAPERS)\n",
    "pd.DataFrame(paper_keywords).to_csv(\"keywords_%d.csv\" % PAPERS)\n",
    "pd.DataFrame(reviews).to_csv(\"reviews_%d.csv\" % PAPERS)\n",
    "pd.DataFrame(references).to_csv(\"references_%d.csv\" % PAPERS)"
   ]
  },
  {
   "cell_type": "code",
   "execution_count": null,
   "metadata": {},
   "outputs": [],
   "source": []
  },
  {
   "cell_type": "code",
   "execution_count": null,
   "metadata": {},
   "outputs": [],
   "source": []
  },
  {
   "cell_type": "code",
   "execution_count": null,
   "metadata": {},
   "outputs": [],
   "source": []
  }
 ],
 "metadata": {
  "kernelspec": {
   "display_name": "Python 3",
   "language": "python",
   "name": "python3"
  },
  "language_info": {
   "codemirror_mode": {
    "name": "ipython",
    "version": 3
   },
   "file_extension": ".py",
   "mimetype": "text/x-python",
   "name": "python",
   "nbconvert_exporter": "python",
   "pygments_lexer": "ipython3",
   "version": "3.7.1"
  }
 },
 "nbformat": 4,
 "nbformat_minor": 2
}
