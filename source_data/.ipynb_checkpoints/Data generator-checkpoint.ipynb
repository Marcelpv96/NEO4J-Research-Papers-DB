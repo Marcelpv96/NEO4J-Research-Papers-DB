{
 "cells": [
  {
   "cell_type": "code",
   "execution_count": 1,
   "metadata": {},
   "outputs": [],
   "source": [
    "import pandas as pd\n",
    "import random\n",
    "from functools import reduce\n",
    "\n",
    "JOURNALS = ['UPC journal', 'IEEE Journal']\n",
    "YEARS = ['2015', '2016', '2017', '2018','2019','2020','2021']\n",
    "CONFERENCES = ['UDL conference', 'MAXsat conference']\n",
    "\n",
    "\n",
    "NAME_AFFILIATIONS = ['UDL', 'UPC', 'Intel', 'Microsoft']\n",
    "AFFILIATIONS = {'UDL': 'University', 'UPC': 'University', 'Intel':'Company', 'Microsoft':'Company'}\n",
    "JOURNAL_EDITOR = 4\n",
    "CONFERENCE_EDITOR = 4\n",
    "OPINIONS = ['Nice paper, but not too much interesting.', 'Really good.', 'Too much boring.', 'Nice to know.']\n",
    "PAPERS = 199\n",
    "NUM_AUTHORS = 40\n",
    "NUM_JOURNALS = int(PAPERS/3)\n",
    "NUM_CONFERENCES = abs(PAPERS-NUM_JOURNALS)\n",
    "\n",
    "#KEYWORDS = ['CNN', 'NN', 'DeepLearning', 'data management', 'indexing', 'data modeling', 'big data', 'data processing', 'data storage', 'data querying', 'pandas', 'python', 'neo4j', 'tensor flow', 'android', 'eminem', 'easter egg']\n",
    "KEYWORDS = ['data management', 'indexing', 'data modeling', 'big data', 'data processing', 'data storage', 'data querying']\n",
    "CITIES = ['Barcelona', 'Lleida', 'Balaguer', 'London', 'Madrid']\n",
    "\n",
    "author_papers = pd.read_csv(\"author_papers.csv\")[:200]\n",
    "\n",
    "all_authors = reduce(lambda x,y:x+y, list(map(lambda x: x.split('|'), author_papers['author'])))\n",
    "authors_inf = {author:{'Dni': random.randint(48050593, 98050592), 'Age': random.randint(20, 89) } for author in all_authors}\n",
    "\n",
    "papers = author_papers['title']\n",
    "papers_inf = {paper:{'Isbn':random.randint(48050593, 198050592), 'Pages':random.randint(4, 20)} for paper in papers}"
   ]
  },
  {
   "cell_type": "code",
   "execution_count": 2,
   "metadata": {},
   "outputs": [
    {
     "data": {
      "text/plain": [
       "63255094"
      ]
     },
     "execution_count": 2,
     "metadata": {},
     "output_type": "execute_result"
    }
   ],
   "source": [
    "authors_inf['Sanjeev Saxena']['Dni']"
   ]
  },
  {
   "cell_type": "markdown",
   "metadata": {},
   "source": [
    "# Generate editors\n",
    "\n",
    "    - We will use different authors for editors, and authors of scinetific papers."
   ]
  },
  {
   "cell_type": "code",
   "execution_count": 3,
   "metadata": {},
   "outputs": [],
   "source": [
    "journal_editors = [author_papers.iloc[i]['author'].split('|')[0] for i in range(50, 50+JOURNAL_EDITOR)]\n",
    "conference_editors = [author_papers.iloc[i]['author'].split('|')[0] for i in range(50+JOURNAL_EDITOR, 50+CONFERENCE_EDITOR*2)]\n"
   ]
  },
  {
   "cell_type": "markdown",
   "metadata": {},
   "source": [
    "# Generate journals and conferences \n",
    "\n",
    "    - For each publication we will have: \n",
    "        - Author : Author of the paper. Only 6 authors available.\n",
    "        - Journal: Journal name. Defined at the top of the file\n",
    "        - Year: One of the years defined previously\n",
    "        - Editor: One of the editor generated at the previous block of code.\n",
    "        - City: One fo the cities defined previously\n",
    "        - Edition: For each year, and conference/journal we will have some"
   ]
  },
  {
   "cell_type": "code",
   "execution_count": 4,
   "metadata": {},
   "outputs": [],
   "source": [
    "journals = {'Author':[], 'Journal':[], 'Year':[], 'Paper':[], 'Editor':[], 'City':[], 'Edition':[], 'Isbn':[], 'Dni':[], 'Age':[], 'Pages':[], 'EditorDni':[], 'EditorAge':[]}\n",
    "journal_papers = []\n",
    "def gen_journal(journal_papers):\n",
    "    for i in range(0, NUM_JOURNALS):\n",
    "        authors = author_papers.iloc[random.randint(0,NUM_AUTHORS)]['author'].split('|')\n",
    "        journal = JOURNALS[random.randint(0,len(JOURNALS)-1)]\n",
    "        paper = author_papers.iloc[i]['title']\n",
    "        journal_papers += [paper]\n",
    "        year = YEARS[random.randint(0, len(YEARS)-1)]\n",
    "        city = CITIES[random.randint(0, len(CITIES)-1)]\n",
    "        editor = journal_editors[random.randint(0, len(journal_editors)-1)]\n",
    "        for author in authors:\n",
    "            journals['Author'] += [author]\n",
    "            journals['Journal'] += [journal]\n",
    "            journals['Year'] += [year]\n",
    "            journals['Paper'] += [paper]\n",
    "            journals['Editor'] += [editor]\n",
    "            journals['City'] += [city]\n",
    "            journals['Edition'] +=['edition %s %s' % ((year, journal))]\n",
    "            journals['Isbn'] += [papers_inf[paper]['Isbn']]\n",
    "            journals['Age'] += [authors_inf[author]['Age']]\n",
    "            journals['Pages'] += [papers_inf[paper]['Pages']]\n",
    "            journals['Dni'] += [authors_inf[author]['Dni']]\n",
    "            journals['EditorDni'] += [authors_inf[editor]['Dni']]\n",
    "            journals['EditorAge'] += [authors_inf[editor]['Age']]\n",
    "        "
   ]
  },
  {
   "cell_type": "code",
   "execution_count": 5,
   "metadata": {},
   "outputs": [],
   "source": [
    "conferences = {'Author':[], 'Conference':[], 'Year':[], 'Paper':[], 'Editor':[], 'City':[], 'Edition':[], 'Isbn':[], 'Dni':[], 'Age':[], 'Pages':[], 'EditorDni':[], 'EditorAge':[]}\n",
    "conference_papers = []\n",
    "def gen_conference(conference_papers):\n",
    "    for i in range(NUM_JOURNALS, PAPERS):\n",
    "        authors = author_papers.iloc[random.randint(0,5)]['author'].split('|')\n",
    "        conference = CONFERENCES[random.randint(0,len(JOURNALS)-1)]\n",
    "        paper = author_papers.iloc[i]['title']\n",
    "        conference_papers += [paper]\n",
    "        year = YEARS[random.randint(0, len(YEARS)-1)]\n",
    "        city = CITIES[random.randint(0, len(CITIES)-1)]\n",
    "        editor = conference_editors[random.randint(0, len(conference_editors)-1)]\n",
    "        for author in authors: \n",
    "            conferences['Author'] += [author]\n",
    "            conferences['Conference'] += [conference]\n",
    "            conferences['Year'] += [year]\n",
    "            conferences['Paper'] += [paper]\n",
    "            conferences['Editor'] += [editor]\n",
    "            conferences['City'] += [city]\n",
    "            conferences['Edition'] +=['edition %s %s' % ((year, conference))]\n",
    "            conferences['Isbn'] += [papers_inf[paper]['Isbn']]\n",
    "            conferences['Age'] += [authors_inf[author]['Age']]\n",
    "            conferences['Pages'] += [papers_inf[paper]['Pages']]\n",
    "            conferences['Dni'] += [authors_inf[author]['Dni']]\n",
    "            conferences['EditorDni'] += [authors_inf[editor]['Dni']]\n",
    "            conferences['EditorAge'] += [authors_inf[editor]['Age']]\n",
    "            "
   ]
  },
  {
   "cell_type": "code",
   "execution_count": 6,
   "metadata": {},
   "outputs": [],
   "source": [
    "gen_conference(conference_papers)\n",
    "gen_journal(journal_papers)"
   ]
  },
  {
   "cell_type": "code",
   "execution_count": null,
   "metadata": {},
   "outputs": [],
   "source": []
  },
  {
   "cell_type": "markdown",
   "metadata": {},
   "source": [
    "# Generate keywords "
   ]
  },
  {
   "cell_type": "code",
   "execution_count": 7,
   "metadata": {},
   "outputs": [],
   "source": [
    "all_papers = conference_papers + journal_papers\n",
    "paper_keywords = {'Paper':[], 'Keyword':[]}\n",
    "def gen_keywords():\n",
    "    for paper in all_papers:\n",
    "        random.shuffle(KEYWORDS)\n",
    "        for word in [word for word in KEYWORDS[:random.randint(1,3)]]:\n",
    "            paper_keywords['Paper'] += [paper]\n",
    "            paper_keywords['Keyword'] += [word]"
   ]
  },
  {
   "cell_type": "code",
   "execution_count": 8,
   "metadata": {},
   "outputs": [],
   "source": [
    "gen_keywords()"
   ]
  },
  {
   "cell_type": "markdown",
   "metadata": {},
   "source": [
    "# Generate references\n",
    "\n",
    "    - Randomly we will assign reference with a probability of 10% for each papers"
   ]
  },
  {
   "cell_type": "code",
   "execution_count": 9,
   "metadata": {},
   "outputs": [],
   "source": [
    "papers_years = pd.concat([pd.DataFrame(conferences)[['Paper', 'Year']], pd.DataFrame(journals)[['Paper', 'Year']]])"
   ]
  },
  {
   "cell_type": "code",
   "execution_count": 10,
   "metadata": {},
   "outputs": [],
   "source": [
    "references = {'paper':[], 'reference':[]}\n",
    "def gen_references():\n",
    "    for paper in all_papers:\n",
    "        for reference in all_papers[1:]:\n",
    "            year_paper = int(papers_years[papers_years['Paper']== paper].iloc[0]['Year'])\n",
    "            year_reference = int(papers_years[papers_years['Paper']== reference].iloc[0]['Year'])\n",
    "            if random.random() < 0.10 and year_paper >= year_reference:\n",
    "                references['paper'] += [paper]\n",
    "                references['reference'] +=[reference]"
   ]
  },
  {
   "cell_type": "code",
   "execution_count": 11,
   "metadata": {},
   "outputs": [
    {
     "ename": "IndexError",
     "evalue": "single positional indexer is out-of-bounds",
     "output_type": "error",
     "traceback": [
      "\u001b[0;31m---------------------------------------------------------------------------\u001b[0m",
      "\u001b[0;31mIndexError\u001b[0m                                Traceback (most recent call last)",
      "\u001b[0;32m<ipython-input-11-2c26052dec50>\u001b[0m in \u001b[0;36m<module>\u001b[0;34m\u001b[0m\n\u001b[0;32m----> 1\u001b[0;31m \u001b[0mgen_references\u001b[0m\u001b[0;34m(\u001b[0m\u001b[0;34m)\u001b[0m\u001b[0;34m\u001b[0m\u001b[0;34m\u001b[0m\u001b[0m\n\u001b[0m",
      "\u001b[0;32m<ipython-input-10-ba613904bb29>\u001b[0m in \u001b[0;36mgen_references\u001b[0;34m()\u001b[0m\n\u001b[1;32m      4\u001b[0m         \u001b[0;32mfor\u001b[0m \u001b[0mreference\u001b[0m \u001b[0;32min\u001b[0m \u001b[0mall_papers\u001b[0m\u001b[0;34m[\u001b[0m\u001b[0;36m1\u001b[0m\u001b[0;34m:\u001b[0m\u001b[0;34m]\u001b[0m\u001b[0;34m:\u001b[0m\u001b[0;34m\u001b[0m\u001b[0;34m\u001b[0m\u001b[0m\n\u001b[1;32m      5\u001b[0m             \u001b[0myear_paper\u001b[0m \u001b[0;34m=\u001b[0m \u001b[0mint\u001b[0m\u001b[0;34m(\u001b[0m\u001b[0mpapers_years\u001b[0m\u001b[0;34m[\u001b[0m\u001b[0mpapers_years\u001b[0m\u001b[0;34m[\u001b[0m\u001b[0;34m'Paper'\u001b[0m\u001b[0;34m]\u001b[0m\u001b[0;34m==\u001b[0m \u001b[0mpaper\u001b[0m\u001b[0;34m]\u001b[0m\u001b[0;34m.\u001b[0m\u001b[0miloc\u001b[0m\u001b[0;34m[\u001b[0m\u001b[0;36m0\u001b[0m\u001b[0;34m]\u001b[0m\u001b[0;34m[\u001b[0m\u001b[0;34m'Year'\u001b[0m\u001b[0;34m]\u001b[0m\u001b[0;34m)\u001b[0m\u001b[0;34m\u001b[0m\u001b[0;34m\u001b[0m\u001b[0m\n\u001b[0;32m----> 6\u001b[0;31m             \u001b[0myear_reference\u001b[0m \u001b[0;34m=\u001b[0m \u001b[0mint\u001b[0m\u001b[0;34m(\u001b[0m\u001b[0mpapers_years\u001b[0m\u001b[0;34m[\u001b[0m\u001b[0mpapers_years\u001b[0m\u001b[0;34m[\u001b[0m\u001b[0;34m'Paper'\u001b[0m\u001b[0;34m]\u001b[0m\u001b[0;34m==\u001b[0m \u001b[0mreference\u001b[0m\u001b[0;34m]\u001b[0m\u001b[0;34m.\u001b[0m\u001b[0miloc\u001b[0m\u001b[0;34m[\u001b[0m\u001b[0;36m0\u001b[0m\u001b[0;34m]\u001b[0m\u001b[0;34m[\u001b[0m\u001b[0;34m'Year'\u001b[0m\u001b[0;34m]\u001b[0m\u001b[0;34m)\u001b[0m\u001b[0;34m\u001b[0m\u001b[0;34m\u001b[0m\u001b[0m\n\u001b[0m\u001b[1;32m      7\u001b[0m             \u001b[0;32mif\u001b[0m \u001b[0mrandom\u001b[0m\u001b[0;34m.\u001b[0m\u001b[0mrandom\u001b[0m\u001b[0;34m(\u001b[0m\u001b[0;34m)\u001b[0m \u001b[0;34m<\u001b[0m \u001b[0;36m0.10\u001b[0m \u001b[0;32mand\u001b[0m \u001b[0myear_paper\u001b[0m \u001b[0;34m>=\u001b[0m \u001b[0myear_reference\u001b[0m\u001b[0;34m:\u001b[0m\u001b[0;34m\u001b[0m\u001b[0;34m\u001b[0m\u001b[0m\n\u001b[1;32m      8\u001b[0m                 \u001b[0mreferences\u001b[0m\u001b[0;34m[\u001b[0m\u001b[0;34m'paper'\u001b[0m\u001b[0;34m]\u001b[0m \u001b[0;34m+=\u001b[0m \u001b[0;34m[\u001b[0m\u001b[0mpaper\u001b[0m\u001b[0;34m]\u001b[0m\u001b[0;34m\u001b[0m\u001b[0;34m\u001b[0m\u001b[0m\n",
      "\u001b[0;32m~/anaconda3/lib/python3.7/site-packages/pandas/core/indexing.py\u001b[0m in \u001b[0;36m__getitem__\u001b[0;34m(self, key)\u001b[0m\n\u001b[1;32m   1476\u001b[0m \u001b[0;34m\u001b[0m\u001b[0m\n\u001b[1;32m   1477\u001b[0m             \u001b[0mmaybe_callable\u001b[0m \u001b[0;34m=\u001b[0m \u001b[0mcom\u001b[0m\u001b[0;34m.\u001b[0m\u001b[0m_apply_if_callable\u001b[0m\u001b[0;34m(\u001b[0m\u001b[0mkey\u001b[0m\u001b[0;34m,\u001b[0m \u001b[0mself\u001b[0m\u001b[0;34m.\u001b[0m\u001b[0mobj\u001b[0m\u001b[0;34m)\u001b[0m\u001b[0;34m\u001b[0m\u001b[0;34m\u001b[0m\u001b[0m\n\u001b[0;32m-> 1478\u001b[0;31m             \u001b[0;32mreturn\u001b[0m \u001b[0mself\u001b[0m\u001b[0;34m.\u001b[0m\u001b[0m_getitem_axis\u001b[0m\u001b[0;34m(\u001b[0m\u001b[0mmaybe_callable\u001b[0m\u001b[0;34m,\u001b[0m \u001b[0maxis\u001b[0m\u001b[0;34m=\u001b[0m\u001b[0maxis\u001b[0m\u001b[0;34m)\u001b[0m\u001b[0;34m\u001b[0m\u001b[0;34m\u001b[0m\u001b[0m\n\u001b[0m\u001b[1;32m   1479\u001b[0m \u001b[0;34m\u001b[0m\u001b[0m\n\u001b[1;32m   1480\u001b[0m     \u001b[0;32mdef\u001b[0m \u001b[0m_is_scalar_access\u001b[0m\u001b[0;34m(\u001b[0m\u001b[0mself\u001b[0m\u001b[0;34m,\u001b[0m \u001b[0mkey\u001b[0m\u001b[0;34m)\u001b[0m\u001b[0;34m:\u001b[0m\u001b[0;34m\u001b[0m\u001b[0;34m\u001b[0m\u001b[0m\n",
      "\u001b[0;32m~/anaconda3/lib/python3.7/site-packages/pandas/core/indexing.py\u001b[0m in \u001b[0;36m_getitem_axis\u001b[0;34m(self, key, axis)\u001b[0m\n\u001b[1;32m   2100\u001b[0m \u001b[0;34m\u001b[0m\u001b[0m\n\u001b[1;32m   2101\u001b[0m             \u001b[0;31m# validate the location\u001b[0m\u001b[0;34m\u001b[0m\u001b[0;34m\u001b[0m\u001b[0;34m\u001b[0m\u001b[0m\n\u001b[0;32m-> 2102\u001b[0;31m             \u001b[0mself\u001b[0m\u001b[0;34m.\u001b[0m\u001b[0m_validate_integer\u001b[0m\u001b[0;34m(\u001b[0m\u001b[0mkey\u001b[0m\u001b[0;34m,\u001b[0m \u001b[0maxis\u001b[0m\u001b[0;34m)\u001b[0m\u001b[0;34m\u001b[0m\u001b[0;34m\u001b[0m\u001b[0m\n\u001b[0m\u001b[1;32m   2103\u001b[0m \u001b[0;34m\u001b[0m\u001b[0m\n\u001b[1;32m   2104\u001b[0m             \u001b[0;32mreturn\u001b[0m \u001b[0mself\u001b[0m\u001b[0;34m.\u001b[0m\u001b[0m_get_loc\u001b[0m\u001b[0;34m(\u001b[0m\u001b[0mkey\u001b[0m\u001b[0;34m,\u001b[0m \u001b[0maxis\u001b[0m\u001b[0;34m=\u001b[0m\u001b[0maxis\u001b[0m\u001b[0;34m)\u001b[0m\u001b[0;34m\u001b[0m\u001b[0;34m\u001b[0m\u001b[0m\n",
      "\u001b[0;32m~/anaconda3/lib/python3.7/site-packages/pandas/core/indexing.py\u001b[0m in \u001b[0;36m_validate_integer\u001b[0;34m(self, key, axis)\u001b[0m\n\u001b[1;32m   2007\u001b[0m         \u001b[0ml\u001b[0m \u001b[0;34m=\u001b[0m \u001b[0mlen\u001b[0m\u001b[0;34m(\u001b[0m\u001b[0max\u001b[0m\u001b[0;34m)\u001b[0m\u001b[0;34m\u001b[0m\u001b[0;34m\u001b[0m\u001b[0m\n\u001b[1;32m   2008\u001b[0m         \u001b[0;32mif\u001b[0m \u001b[0mkey\u001b[0m \u001b[0;34m>=\u001b[0m \u001b[0ml\u001b[0m \u001b[0;32mor\u001b[0m \u001b[0mkey\u001b[0m \u001b[0;34m<\u001b[0m \u001b[0;34m-\u001b[0m\u001b[0ml\u001b[0m\u001b[0;34m:\u001b[0m\u001b[0;34m\u001b[0m\u001b[0;34m\u001b[0m\u001b[0m\n\u001b[0;32m-> 2009\u001b[0;31m             \u001b[0;32mraise\u001b[0m \u001b[0mIndexError\u001b[0m\u001b[0;34m(\u001b[0m\u001b[0;34m\"single positional indexer is out-of-bounds\"\u001b[0m\u001b[0;34m)\u001b[0m\u001b[0;34m\u001b[0m\u001b[0;34m\u001b[0m\u001b[0m\n\u001b[0m\u001b[1;32m   2010\u001b[0m \u001b[0;34m\u001b[0m\u001b[0m\n\u001b[1;32m   2011\u001b[0m     \u001b[0;32mdef\u001b[0m \u001b[0m_getitem_tuple\u001b[0m\u001b[0;34m(\u001b[0m\u001b[0mself\u001b[0m\u001b[0;34m,\u001b[0m \u001b[0mtup\u001b[0m\u001b[0;34m)\u001b[0m\u001b[0;34m:\u001b[0m\u001b[0;34m\u001b[0m\u001b[0;34m\u001b[0m\u001b[0m\n",
      "\u001b[0;31mIndexError\u001b[0m: single positional indexer is out-of-bounds"
     ]
    }
   ],
   "source": [
    "gen_references()"
   ]
  },
  {
   "cell_type": "code",
   "execution_count": null,
   "metadata": {},
   "outputs": [],
   "source": []
  },
  {
   "cell_type": "markdown",
   "metadata": {},
   "source": [
    "# Generate reviews\n",
    "\n",
    "    - Randomly we will assign one author for each paper published. Papers can be published in conferences and journals.\n",
    "    - Randomly we assign more or less reviewers for each paper.\n",
    "    - Randomly choose for each author organisation."
   ]
  },
  {
   "cell_type": "code",
   "execution_count": null,
   "metadata": {},
   "outputs": [],
   "source": []
  },
  {
   "cell_type": "code",
   "execution_count": null,
   "metadata": {},
   "outputs": [],
   "source": [
    "all_authors = journals['Author'] + conferences['Author']\n",
    "reviews = {'Author':[], 'Editor':[], 'Paper':[], 'Affiliation':[], 'CompanyUniversity':[], 'Decision':[], 'Opinion':[]}\n",
    "def gen_reviews(published_papers):\n",
    "    editors = published_papers['Editor']\n",
    "    papers = published_papers['Paper']\n",
    "    for i in range(0, len(editors)):\n",
    "        paper = papers[i]\n",
    "        editor = editors[i]\n",
    "        author = all_authors[random.randint(0,len(all_authors)-1)]\n",
    "        for i in range(0,random.randint(2,4)):\n",
    "            reviews['Paper'] += [paper]\n",
    "            reviews['Editor'] += [editor]\n",
    "            author_old = author\n",
    "            while author_old == author:\n",
    "                author = all_authors[random.randint(0,len(all_authors)-1)]\n",
    "            reviews['Author'] += [author]\n",
    "            affiliation = NAME_AFFILIATIONS[random.randint(0, len(NAME_AFFILIATIONS)-1)]\n",
    "            reviews['Affiliation'] += [affiliation]\n",
    "            reviews['CompanyUniversity'] += [AFFILIATIONS[affiliation]]\n",
    "            reviews['Decision'] += [['Accepted','Denied'][random.randint(0,1)]]\n",
    "            reviews['Opinion'] += [OPINIONS[random.randint(0,len(OPINIONS)-1)]]\n",
    "    "
   ]
  },
  {
   "cell_type": "code",
   "execution_count": null,
   "metadata": {},
   "outputs": [],
   "source": [
    "gen_reviews(journals)\n",
    "gen_reviews(conferences)"
   ]
  },
  {
   "cell_type": "code",
   "execution_count": null,
   "metadata": {},
   "outputs": [],
   "source": []
  },
  {
   "cell_type": "markdown",
   "metadata": {},
   "source": [
    "# Generating files\n",
    "\n",
    "    - Name will be : \"kind of file\"_\"value of PAPERS\".csv, for example if it contains journals information, and PAPERS is equal to 50, the file will be named as: journals_50.csv "
   ]
  },
  {
   "cell_type": "code",
   "execution_count": null,
   "metadata": {},
   "outputs": [],
   "source": [
    "pd.DataFrame(journals).to_csv(\"journals_%d.csv\" % PAPERS)\n",
    "pd.DataFrame(conferences).to_csv(\"conferences_%d.csv\" % PAPERS)\n",
    "pd.DataFrame(paper_keywords).to_csv(\"keywords_%d.csv\" % PAPERS)\n",
    "pd.DataFrame(reviews).to_csv(\"reviews_%d.csv\" % PAPERS)\n",
    "pd.DataFrame(references).to_csv(\"references_%d.csv\" % PAPERS)"
   ]
  },
  {
   "cell_type": "code",
   "execution_count": null,
   "metadata": {},
   "outputs": [],
   "source": []
  },
  {
   "cell_type": "code",
   "execution_count": null,
   "metadata": {},
   "outputs": [],
   "source": []
  },
  {
   "cell_type": "code",
   "execution_count": null,
   "metadata": {},
   "outputs": [],
   "source": []
  }
 ],
 "metadata": {
  "kernelspec": {
   "display_name": "Python 3",
   "language": "python",
   "name": "python3"
  },
  "language_info": {
   "codemirror_mode": {
    "name": "ipython",
    "version": 3
   },
   "file_extension": ".py",
   "mimetype": "text/x-python",
   "name": "python",
   "nbconvert_exporter": "python",
   "pygments_lexer": "ipython3",
   "version": "3.7.1"
  }
 },
 "nbformat": 4,
 "nbformat_minor": 2
}
